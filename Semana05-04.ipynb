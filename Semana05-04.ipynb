{
 "cells": [
  {
   "cell_type": "markdown",
   "id": "e3a426b0",
   "metadata": {},
   "source": [
    "# Semana 05\n",
    "Steve Edward Gomez Huamani\n"
   ]
  },
  {
   "cell_type": "markdown",
   "id": "3f6a9c39",
   "metadata": {},
   "source": [
    "Temas\n",
    "1. Números\n",
    "2. Variables\n",
    "3. Manejo de Cadenas\n",
    "4. Ingreso de datos por teclado\n",
    "5. Operadores"
   ]
  },
  {
   "cell_type": "markdown",
   "id": "6437440d",
   "metadata": {},
   "source": [
    "4.-Ingreso de Datos por el teclado"
   ]
  },
  {
   "cell_type": "code",
   "execution_count": 3,
   "id": "65c6e42b",
   "metadata": {},
   "outputs": [
    {
     "name": "stdout",
     "output_type": "stream",
     "text": [
      "cual es tu nombre?\n",
      "steve\n",
      "hola steve\n"
     ]
    }
   ],
   "source": [
    "#Funcion input()\n",
    "print(\"cual es tu nombre?\")\n",
    "nombre = input()\n",
    "print(\"hola \" + nombre)"
   ]
  },
  {
   "cell_type": "code",
   "execution_count": 4,
   "id": "8733f0c7",
   "metadata": {},
   "outputs": [
    {
     "name": "stdout",
     "output_type": "stream",
     "text": [
      "numero1: \n",
      "4\n",
      "numero2: \n",
      "5\n",
      "El resultado es 9\n"
     ]
    }
   ],
   "source": [
    "#cuando ingresa un valor por el teclado lo hace como cadena\n",
    "print(\"numero1: \")\n",
    "numero1= input()\n",
    "print(\"numero2: \")\n",
    "numero2 = input()\n",
    "numero3= int(numero1)+int(numero2)\n",
    "print(f\"El resultado es {numero3}\")"
   ]
  },
  {
   "cell_type": "code",
   "execution_count": null,
   "id": "2c74e1c9",
   "metadata": {},
   "outputs": [],
   "source": []
  }
 ],
 "metadata": {
  "kernelspec": {
   "display_name": "Python 3 (ipykernel)",
   "language": "python",
   "name": "python3"
  },
  "language_info": {
   "codemirror_mode": {
    "name": "ipython",
    "version": 3
   },
   "file_extension": ".py",
   "mimetype": "text/x-python",
   "name": "python",
   "nbconvert_exporter": "python",
   "pygments_lexer": "ipython3",
   "version": "3.9.7"
  }
 },
 "nbformat": 4,
 "nbformat_minor": 5
}
