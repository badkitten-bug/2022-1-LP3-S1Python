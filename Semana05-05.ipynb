{
 "cells": [
  {
   "cell_type": "markdown",
   "id": "850aaa48",
   "metadata": {},
   "source": [
    "# Semana 05\n",
    "     Steve gomez huamani"
   ]
  },
  {
   "cell_type": "markdown",
   "id": "8f87d66a",
   "metadata": {},
   "source": [
    "Temas"
   ]
  },
  {
   "cell_type": "markdown",
   "id": "eb68e782",
   "metadata": {},
   "source": [
    "1. Números\n",
    "2. Variables\n",
    "3. Manejo de Cadenas\n",
    "4. Ingreso de datos por teclado\n",
    "5. Operadores"
   ]
  },
  {
   "cell_type": "markdown",
   "id": "d24324b9",
   "metadata": {},
   "source": [
    "5.Operadores"
   ]
  },
  {
   "cell_type": "markdown",
   "id": "b6068848",
   "metadata": {},
   "source": [
    "5.1 Operadores Aritméticos\n",
    "#Se tiene: +,-,*,/,,%, **, //"
   ]
  },
  {
   "cell_type": "code",
   "execution_count": 8,
   "id": "b4753d06",
   "metadata": {},
   "outputs": [
    {
     "name": "stdout",
     "output_type": "stream",
     "text": [
      "13\n",
      "7\n",
      "30\n",
      "3.3333333333333335\n",
      "1\n",
      "1000\n",
      "3\n"
     ]
    }
   ],
   "source": [
    "numero1 = 10\n",
    "numero2 = 3\n",
    "suma = numero1 + numero2\n",
    "resta = numero1 - numero2\n",
    "multiplicacion= numero1*numero2\n",
    "division=numero1/numero2\n",
    "residuo=numero1 % numero2\n",
    "potencia= numero1**numero2\n",
    "cociente=numero1//numero2\n",
    "print(suma)\n",
    "print(resta)\n",
    "print(multiplicacion)\n",
    "print(division)\n",
    "print(residuo)\n",
    "print(potencia)\n",
    "print(cociente)"
   ]
  },
  {
   "cell_type": "code",
   "execution_count": 9,
   "id": "d00e2155",
   "metadata": {},
   "outputs": [
    {
     "name": "stdout",
     "output_type": "stream",
     "text": [
      "8\n"
     ]
    }
   ],
   "source": [
    "#5.2 Operadores de asignacion\n",
    "# se tiene -,+=,-= , *= , /= , **=\n",
    "numero = 5\n",
    "numero = numero + 3\n",
    "print(numero)"
   ]
  },
  {
   "cell_type": "code",
   "execution_count": 10,
   "id": "b44da610",
   "metadata": {},
   "outputs": [
    {
     "name": "stdout",
     "output_type": "stream",
     "text": [
      "8\n"
     ]
    }
   ],
   "source": [
    "#la operacion anterior tambien se puede expresar de la siguiente manera:\n",
    "numero =5\n",
    "numero += 3\n",
    "print(numero)"
   ]
  },
  {
   "cell_type": "code",
   "execution_count": 11,
   "id": "21061fe2",
   "metadata": {},
   "outputs": [
    {
     "name": "stdout",
     "output_type": "stream",
     "text": [
      "125\n"
     ]
    }
   ],
   "source": [
    "#ejemplo\n",
    "numero=5\n",
    "numero=numero**3\n",
    "print(numero)"
   ]
  },
  {
   "cell_type": "code",
   "execution_count": 12,
   "id": "189163d3",
   "metadata": {},
   "outputs": [
    {
     "name": "stdout",
     "output_type": "stream",
     "text": [
      "125\n"
     ]
    }
   ],
   "source": [
    "numero=5\n",
    "numero **=3\n",
    "print(numero)"
   ]
  },
  {
   "cell_type": "code",
   "execution_count": 13,
   "id": "c732d7d4",
   "metadata": {},
   "outputs": [],
   "source": [
    "#5.3 operadores de comparacion\n",
    "#se tiene : ==, != ; > ,< ,<= ,>=\n"
   ]
  },
  {
   "cell_type": "code",
   "execution_count": 15,
   "id": "f1ef1b45",
   "metadata": {},
   "outputs": [
    {
     "data": {
      "text/plain": [
       "False"
      ]
     },
     "execution_count": 15,
     "metadata": {},
     "output_type": "execute_result"
    }
   ],
   "source": [
    "#ejemplo de igualdad ==\n",
    "numero1 =5\n",
    "numero2=2\n",
    "numero1==numero2\n"
   ]
  },
  {
   "cell_type": "code",
   "execution_count": 16,
   "id": "ed28f4bd",
   "metadata": {},
   "outputs": [
    {
     "data": {
      "text/plain": [
       "True"
      ]
     },
     "execution_count": 16,
     "metadata": {},
     "output_type": "execute_result"
    }
   ],
   "source": [
    "#con las cadenas funciona igual\n",
    "nombre1=\"Steve\"\n",
    "nombre2=\"Steve\"\n",
    "nombre1==nombre2"
   ]
  },
  {
   "cell_type": "code",
   "execution_count": 17,
   "id": "7f81c907",
   "metadata": {},
   "outputs": [],
   "source": [
    "#5.4 operadores lógicos\n",
    " #se tiene : and, or ,not\n",
    "numero1= 5\n",
    "numero2= 6\n",
    "numero3=7\n",
    "numero4=8\n"
   ]
  },
  {
   "cell_type": "code",
   "execution_count": 18,
   "id": "651ce9bd",
   "metadata": {},
   "outputs": [
    {
     "data": {
      "text/plain": [
       "True"
      ]
     },
     "execution_count": 18,
     "metadata": {},
     "output_type": "execute_result"
    }
   ],
   "source": [
    "numero1<numero2"
   ]
  },
  {
   "cell_type": "code",
   "execution_count": 20,
   "id": "c3d3bfa2",
   "metadata": {},
   "outputs": [
    {
     "data": {
      "text/plain": [
       "False"
      ]
     },
     "execution_count": 20,
     "metadata": {},
     "output_type": "execute_result"
    }
   ],
   "source": [
    " #el not invierte el resultado\n",
    "not(numero1<numero2)"
   ]
  },
  {
   "cell_type": "code",
   "execution_count": 21,
   "id": "e5ae0ba1",
   "metadata": {},
   "outputs": [
    {
     "data": {
      "text/plain": [
       "True"
      ]
     },
     "execution_count": 21,
     "metadata": {},
     "output_type": "execute_result"
    }
   ],
   "source": [
    "numero1<numero2 and numero3<numero4"
   ]
  },
  {
   "cell_type": "code",
   "execution_count": 22,
   "id": "a027c0bb",
   "metadata": {},
   "outputs": [
    {
     "data": {
      "text/plain": [
       "True"
      ]
     },
     "execution_count": 22,
     "metadata": {},
     "output_type": "execute_result"
    }
   ],
   "source": [
    "#tambien puedes utilizar parentesis para ordenar tu operacion \n",
    "(numero1<numero2 and numero3<numero4) or (numero3>numero4)"
   ]
  },
  {
   "cell_type": "code",
   "execution_count": 23,
   "id": "1081150c",
   "metadata": {},
   "outputs": [],
   "source": [
    "#ejemplo:\n",
    "aula = [\"juan\",\"daniel\",\"ruben\"]\n",
    "alumno1= \"diego\"\n",
    "alumno2=\"juan\""
   ]
  },
  {
   "cell_type": "code",
   "execution_count": 24,
   "id": "09497fd7",
   "metadata": {},
   "outputs": [
    {
     "data": {
      "text/plain": [
       "False"
      ]
     },
     "execution_count": 24,
     "metadata": {},
     "output_type": "execute_result"
    }
   ],
   "source": [
    "#¿Diego esta en aula?\n",
    "alumno1 in aula"
   ]
  },
  {
   "cell_type": "code",
   "execution_count": 25,
   "id": "e929c6a8",
   "metadata": {},
   "outputs": [
    {
     "data": {
      "text/plain": [
       "True"
      ]
     },
     "execution_count": 25,
     "metadata": {},
     "output_type": "execute_result"
    }
   ],
   "source": [
    "# juan esta en aula?\n",
    "alumno2 in aula"
   ]
  },
  {
   "cell_type": "code",
   "execution_count": 26,
   "id": "d5f7820e",
   "metadata": {},
   "outputs": [
    {
     "data": {
      "text/plain": [
       "True"
      ]
     },
     "execution_count": 26,
     "metadata": {},
     "output_type": "execute_result"
    }
   ],
   "source": [
    "# Diego no esta en aula?\n",
    "alumno1 not in aula"
   ]
  },
  {
   "cell_type": "code",
   "execution_count": 27,
   "id": "8d777d71",
   "metadata": {},
   "outputs": [
    {
     "data": {
      "text/plain": [
       "False"
      ]
     },
     "execution_count": 27,
     "metadata": {},
     "output_type": "execute_result"
    }
   ],
   "source": [
    "#juan no esta en aula\n",
    "alumno2 not in aula"
   ]
  },
  {
   "cell_type": "code",
   "execution_count": 29,
   "id": "a2a6cbb4",
   "metadata": {},
   "outputs": [],
   "source": [
    "aula1 =[\"juan\",\"daniel\",\"ruben\"]\n",
    "aula2 =[\"juan\",\"daniel\",\"ruben\"]\n",
    "\n",
    "#a continuacion vamos a indicar que aula3 va a compartir el mismo objeto que aula1\n",
    "aula3=aula1"
   ]
  },
  {
   "cell_type": "code",
   "execution_count": 30,
   "id": "195c34d3",
   "metadata": {},
   "outputs": [
    {
     "data": {
      "text/plain": [
       "True"
      ]
     },
     "execution_count": 30,
     "metadata": {},
     "output_type": "execute_result"
    }
   ],
   "source": [
    "#aula3 comparte el mismo objeti oqeu aula 1?\n",
    "aula3 is aula1"
   ]
  },
  {
   "cell_type": "code",
   "execution_count": 31,
   "id": "bee90a5a",
   "metadata": {},
   "outputs": [
    {
     "data": {
      "text/plain": [
       "False"
      ]
     },
     "execution_count": 31,
     "metadata": {},
     "output_type": "execute_result"
    }
   ],
   "source": [
    "#aula3 comparte el mismo objeto que aula 2?\n",
    "aula3 is aula2\n"
   ]
  },
  {
   "cell_type": "code",
   "execution_count": 32,
   "id": "1a3289bd",
   "metadata": {},
   "outputs": [
    {
     "data": {
      "text/plain": [
       "False"
      ]
     },
     "execution_count": 32,
     "metadata": {},
     "output_type": "execute_result"
    }
   ],
   "source": [
    "#aula 2  comparte el mismo objeto que aula1?\n",
    "aula2 is aula1"
   ]
  },
  {
   "cell_type": "code",
   "execution_count": 33,
   "id": "2fcd8c94",
   "metadata": {},
   "outputs": [],
   "source": [
    "aula1.append(\"diego\")"
   ]
  },
  {
   "cell_type": "code",
   "execution_count": 34,
   "id": "f0542af2",
   "metadata": {},
   "outputs": [
    {
     "name": "stdout",
     "output_type": "stream",
     "text": [
      "['juan', 'daniel', 'ruben', 'diego']\n"
     ]
    }
   ],
   "source": [
    "#al imprimir los elementos de la lista aula1 se observa \n",
    "print(aula1)"
   ]
  },
  {
   "cell_type": "code",
   "execution_count": 35,
   "id": "e87671d2",
   "metadata": {},
   "outputs": [
    {
     "name": "stdout",
     "output_type": "stream",
     "text": [
      "['juan', 'daniel', 'ruben', 'diego']\n"
     ]
    }
   ],
   "source": [
    "print(aula3)"
   ]
  },
  {
   "cell_type": "code",
   "execution_count": 36,
   "id": "90109eaf",
   "metadata": {},
   "outputs": [
    {
     "name": "stdout",
     "output_type": "stream",
     "text": [
      "['juan', 'daniel', 'ruben']\n"
     ]
    }
   ],
   "source": [
    "print(aula2)"
   ]
  },
  {
   "cell_type": "code",
   "execution_count": 37,
   "id": "c3beeb6a",
   "metadata": {},
   "outputs": [
    {
     "name": "stdout",
     "output_type": "stream",
     "text": [
      "['juan', 'daniel', 'ruben']\n"
     ]
    }
   ],
   "source": [
    "aula3 =aula2\n",
    "print(aula3)"
   ]
  },
  {
   "cell_type": "code",
   "execution_count": 38,
   "id": "1373d816",
   "metadata": {},
   "outputs": [],
   "source": [
    "aula3.append(\"diego en 3\")"
   ]
  },
  {
   "cell_type": "code",
   "execution_count": 39,
   "id": "e588fbe7",
   "metadata": {},
   "outputs": [
    {
     "data": {
      "text/plain": [
       "['juan', 'daniel', 'ruben', 'diego en 3']"
      ]
     },
     "execution_count": 39,
     "metadata": {},
     "output_type": "execute_result"
    }
   ],
   "source": [
    "aula2"
   ]
  },
  {
   "cell_type": "code",
   "execution_count": 2,
   "id": "10cdf028",
   "metadata": {},
   "outputs": [],
   "source": [
    "from PIL import Image\n",
    "img=Image.open(\"compartir_objetos.jpg\")\n",
    "img.show()"
   ]
  },
  {
   "cell_type": "code",
   "execution_count": null,
   "id": "798fc9c9",
   "metadata": {},
   "outputs": [],
   "source": []
  }
 ],
 "metadata": {
  "kernelspec": {
   "display_name": "Python 3 (ipykernel)",
   "language": "python",
   "name": "python3"
  },
  "language_info": {
   "codemirror_mode": {
    "name": "ipython",
    "version": 3
   },
   "file_extension": ".py",
   "mimetype": "text/x-python",
   "name": "python",
   "nbconvert_exporter": "python",
   "pygments_lexer": "ipython3",
   "version": "3.9.7"
  }
 },
 "nbformat": 4,
 "nbformat_minor": 5
}
